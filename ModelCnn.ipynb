{
 "cells": [
  {
   "cell_type": "code",
   "execution_count": 12,
   "metadata": {},
   "outputs": [],
   "source": [
    "import tensorflow as tf\n",
    "from  tensorflow import keras "
   ]
  },
  {
   "cell_type": "code",
   "execution_count": 13,
   "metadata": {},
   "outputs": [
    {
     "name": "stdout",
     "output_type": "stream",
     "text": [
      "Found 13104 files belonging to 26 classes.\n"
     ]
    }
   ],
   "source": [
    "train = keras.utils.image_dataset_from_directory(\n",
    "    directory = 'Train/',\n",
    "    label_mode = 'int',\n",
    "    labels = 'inferred' , \n",
    "    image_size = (64,64),\n",
    "    batch_size = 32 \n",
    ")"
   ]
  },
  {
   "cell_type": "code",
   "execution_count": 14,
   "metadata": {},
   "outputs": [
    {
     "name": "stdout",
     "output_type": "stream",
     "text": [
      "Found 2808 files belonging to 26 classes.\n"
     ]
    }
   ],
   "source": [
    "validation = keras.utils.image_dataset_from_directory(\n",
    "    directory = 'Test/',\n",
    "    label_mode = 'int',\n",
    "    labels = 'inferred' , \n",
    "    image_size = (64,64),\n",
    "    batch_size = 32 \n",
    ")"
   ]
  },
  {
   "cell_type": "code",
   "execution_count": 15,
   "metadata": {},
   "outputs": [],
   "source": [
    "from keras import Sequential\n",
    "from keras.layers import Conv2D , BatchNormalization , MaxPool2D , Dense , Dropout , Flatten "
   ]
  },
  {
   "cell_type": "code",
   "execution_count": 16,
   "metadata": {},
   "outputs": [],
   "source": [
    "model = Sequential()\n",
    "\n",
    "model.add(Conv2D(filters = 32 , kernel_size = (3,3) , strides = (2,2) , padding = 'same' , input_shape = (64,64,3) ,activation = 'relu'))\n",
    "model.add(MaxPool2D(pool_size = (2,2) , strides = (2,2) , padding = 'same'))\n",
    "model.add(BatchNormalization())\n",
    "\n",
    "model.add(Conv2D(filters = 64 , kernel_size = (3,3) , strides = (2,2) , padding = 'same'  ,activation = 'relu'))\n",
    "model.add(MaxPool2D(pool_size = (2,2) , strides = (2,2) , padding = 'same'))\n",
    "model.add(BatchNormalization())\n",
    "\n",
    "# model.add(Conv2D(filters = 128 , kernel_size = (3,3) , strides = (2,2) , padding = 'same'  ,activation = 'relu'))\n",
    "# model.add(MaxPool2D(pool_size = (2,2) , strides = (2,2) , padding = 'same'))\n",
    "# model.add(BatchNormalization())\n",
    "\n",
    "\n",
    "model.add(Flatten())    \n",
    "\n",
    "# model.add(Dense(128 , activation = 'relu' ))\n",
    "model.add(Dense(64 , activation = 'relu' ))\n",
    "model.add(Dense(32 , activation = 'relu' ))\n",
    "\n",
    "model.add(Dropout(0.4))\n",
    "model.add(Dense(26 , activation = 'softmax' ))\n"
   ]
  },
  {
   "cell_type": "code",
   "execution_count": 17,
   "metadata": {},
   "outputs": [
    {
     "name": "stdout",
     "output_type": "stream",
     "text": [
      "Model: \"sequential_1\"\n",
      "_________________________________________________________________\n",
      " Layer (type)                Output Shape              Param #   \n",
      "=================================================================\n",
      " conv2d_2 (Conv2D)           (None, 32, 32, 32)        896       \n",
      "                                                                 \n",
      " max_pooling2d_2 (MaxPooling  (None, 16, 16, 32)       0         \n",
      " 2D)                                                             \n",
      "                                                                 \n",
      " batch_normalization_2 (Batc  (None, 16, 16, 32)       128       \n",
      " hNormalization)                                                 \n",
      "                                                                 \n",
      " conv2d_3 (Conv2D)           (None, 8, 8, 64)          18496     \n",
      "                                                                 \n",
      " max_pooling2d_3 (MaxPooling  (None, 4, 4, 64)         0         \n",
      " 2D)                                                             \n",
      "                                                                 \n",
      " batch_normalization_3 (Batc  (None, 4, 4, 64)         256       \n",
      " hNormalization)                                                 \n",
      "                                                                 \n",
      " flatten_1 (Flatten)         (None, 1024)              0         \n",
      "                                                                 \n",
      " dense_3 (Dense)             (None, 64)                65600     \n",
      "                                                                 \n",
      " dense_4 (Dense)             (None, 32)                2080      \n",
      "                                                                 \n",
      " dropout_1 (Dropout)         (None, 32)                0         \n",
      "                                                                 \n",
      " dense_5 (Dense)             (None, 26)                858       \n",
      "                                                                 \n",
      "=================================================================\n",
      "Total params: 88,314\n",
      "Trainable params: 88,122\n",
      "Non-trainable params: 192\n",
      "_________________________________________________________________\n"
     ]
    }
   ],
   "source": [
    "model.summary()\n"
   ]
  },
  {
   "cell_type": "code",
   "execution_count": 18,
   "metadata": {},
   "outputs": [],
   "source": [
    "model.compile(optimizer = 'adam' , loss = tf.losses.SparseCategoricalCrossentropy() , metrics = ['accuracy'])"
   ]
  },
  {
   "cell_type": "code",
   "execution_count": 19,
   "metadata": {},
   "outputs": [
    {
     "name": "stdout",
     "output_type": "stream",
     "text": [
      "Epoch 1/60\n"
     ]
    },
    {
     "name": "stdout",
     "output_type": "stream",
     "text": [
      "410/410 [==============================] - 9s 21ms/step - loss: 1.9976 - accuracy: 0.4286 - val_loss: 1.0642 - val_accuracy: 0.7311\n",
      "Epoch 2/60\n",
      "410/410 [==============================] - 8s 19ms/step - loss: 1.2153 - accuracy: 0.6525 - val_loss: 0.9183 - val_accuracy: 0.7585\n",
      "Epoch 3/60\n",
      "410/410 [==============================] - 8s 19ms/step - loss: 1.0113 - accuracy: 0.7121 - val_loss: 0.8541 - val_accuracy: 0.7749\n",
      "Epoch 4/60\n",
      "410/410 [==============================] - 8s 20ms/step - loss: 0.9046 - accuracy: 0.7415 - val_loss: 0.7810 - val_accuracy: 0.7981\n",
      "Epoch 5/60\n",
      "410/410 [==============================] - 8s 20ms/step - loss: 0.8225 - accuracy: 0.7674 - val_loss: 0.8024 - val_accuracy: 0.7938\n",
      "Epoch 6/60\n",
      "410/410 [==============================] - 8s 19ms/step - loss: 0.7641 - accuracy: 0.7770 - val_loss: 0.7935 - val_accuracy: 0.7888\n",
      "Epoch 7/60\n",
      "410/410 [==============================] - 8s 19ms/step - loss: 0.7136 - accuracy: 0.7904 - val_loss: 0.7873 - val_accuracy: 0.8048\n",
      "Epoch 8/60\n",
      "410/410 [==============================] - 8s 20ms/step - loss: 0.6593 - accuracy: 0.8051 - val_loss: 0.7959 - val_accuracy: 0.8034\n",
      "Epoch 9/60\n",
      "410/410 [==============================] - 8s 19ms/step - loss: 0.6211 - accuracy: 0.8155 - val_loss: 0.8165 - val_accuracy: 0.8016\n",
      "Epoch 10/60\n",
      "410/410 [==============================] - 8s 19ms/step - loss: 0.5913 - accuracy: 0.8244 - val_loss: 0.8111 - val_accuracy: 0.8052\n",
      "Epoch 11/60\n",
      "410/410 [==============================] - 8s 20ms/step - loss: 0.5627 - accuracy: 0.8313 - val_loss: 0.9030 - val_accuracy: 0.8038\n",
      "Epoch 12/60\n",
      "410/410 [==============================] - 8s 20ms/step - loss: 0.5433 - accuracy: 0.8323 - val_loss: 0.8842 - val_accuracy: 0.8070\n",
      "Epoch 13/60\n",
      "410/410 [==============================] - 8s 20ms/step - loss: 0.5196 - accuracy: 0.8369 - val_loss: 0.9265 - val_accuracy: 0.8070\n",
      "Epoch 14/60\n",
      "410/410 [==============================] - 8s 20ms/step - loss: 0.4836 - accuracy: 0.8499 - val_loss: 0.9794 - val_accuracy: 0.8102\n",
      "Epoch 15/60\n",
      "410/410 [==============================] - 8s 20ms/step - loss: 0.4676 - accuracy: 0.8555 - val_loss: 0.9761 - val_accuracy: 0.8088\n",
      "Epoch 16/60\n",
      "410/410 [==============================] - 8s 19ms/step - loss: 0.4498 - accuracy: 0.8576 - val_loss: 1.0621 - val_accuracy: 0.8080\n",
      "Epoch 17/60\n",
      "410/410 [==============================] - 8s 21ms/step - loss: 0.4437 - accuracy: 0.8612 - val_loss: 1.0242 - val_accuracy: 0.8095\n",
      "Epoch 18/60\n",
      "410/410 [==============================] - 9s 21ms/step - loss: 0.4294 - accuracy: 0.8664 - val_loss: 1.1073 - val_accuracy: 0.8048\n",
      "Epoch 19/60\n",
      "410/410 [==============================] - 8s 20ms/step - loss: 0.4112 - accuracy: 0.8725 - val_loss: 0.9923 - val_accuracy: 0.8162\n",
      "Epoch 20/60\n",
      "410/410 [==============================] - 9s 21ms/step - loss: 0.3998 - accuracy: 0.8761 - val_loss: 1.1690 - val_accuracy: 0.7999\n",
      "Epoch 21/60\n",
      "410/410 [==============================] - 9s 21ms/step - loss: 0.3863 - accuracy: 0.8789 - val_loss: 1.1106 - val_accuracy: 0.8066\n",
      "Epoch 22/60\n",
      "410/410 [==============================] - 9s 21ms/step - loss: 0.3852 - accuracy: 0.8807 - val_loss: 1.1626 - val_accuracy: 0.8080\n",
      "Epoch 23/60\n",
      "410/410 [==============================] - 9s 21ms/step - loss: 0.3707 - accuracy: 0.8827 - val_loss: 1.1370 - val_accuracy: 0.8134\n",
      "Epoch 24/60\n",
      "410/410 [==============================] - 14s 33ms/step - loss: 0.3661 - accuracy: 0.8848 - val_loss: 1.2200 - val_accuracy: 0.8141\n",
      "Epoch 25/60\n",
      "410/410 [==============================] - 9s 22ms/step - loss: 0.3618 - accuracy: 0.8873 - val_loss: 1.3152 - val_accuracy: 0.8066\n",
      "Epoch 26/60\n",
      "410/410 [==============================] - 9s 22ms/step - loss: 0.3700 - accuracy: 0.8828 - val_loss: 1.2633 - val_accuracy: 0.8177\n",
      "Epoch 27/60\n",
      "410/410 [==============================] - 9s 21ms/step - loss: 0.3430 - accuracy: 0.8922 - val_loss: 1.3193 - val_accuracy: 0.8088\n",
      "Epoch 28/60\n",
      "410/410 [==============================] - 8s 20ms/step - loss: 0.3351 - accuracy: 0.8945 - val_loss: 1.3413 - val_accuracy: 0.8123\n",
      "Epoch 29/60\n",
      "410/410 [==============================] - 8s 20ms/step - loss: 0.3353 - accuracy: 0.8949 - val_loss: 1.3228 - val_accuracy: 0.8116\n",
      "Epoch 30/60\n",
      "410/410 [==============================] - 8s 20ms/step - loss: 0.3338 - accuracy: 0.8935 - val_loss: 1.3213 - val_accuracy: 0.8145\n",
      "Epoch 31/60\n",
      "410/410 [==============================] - 9s 21ms/step - loss: 0.3208 - accuracy: 0.8966 - val_loss: 1.3342 - val_accuracy: 0.8105\n",
      "Epoch 32/60\n",
      "410/410 [==============================] - 8s 20ms/step - loss: 0.3256 - accuracy: 0.8978 - val_loss: 1.3297 - val_accuracy: 0.8098\n",
      "Epoch 33/60\n",
      "410/410 [==============================] - 8s 21ms/step - loss: 0.3020 - accuracy: 0.9039 - val_loss: 1.4140 - val_accuracy: 0.8127\n",
      "Epoch 34/60\n",
      "410/410 [==============================] - 8s 20ms/step - loss: 0.3307 - accuracy: 0.8969 - val_loss: 1.3296 - val_accuracy: 0.8166\n",
      "Epoch 35/60\n",
      "410/410 [==============================] - 8s 20ms/step - loss: 0.3103 - accuracy: 0.9025 - val_loss: 1.5213 - val_accuracy: 0.8130\n",
      "Epoch 36/60\n",
      "410/410 [==============================] - 8s 20ms/step - loss: 0.3067 - accuracy: 0.9005 - val_loss: 1.4722 - val_accuracy: 0.8180\n",
      "Epoch 37/60\n",
      "410/410 [==============================] - 8s 21ms/step - loss: 0.3009 - accuracy: 0.9038 - val_loss: 1.5895 - val_accuracy: 0.8077\n",
      "Epoch 38/60\n",
      "410/410 [==============================] - 8s 21ms/step - loss: 0.2964 - accuracy: 0.9071 - val_loss: 1.5766 - val_accuracy: 0.8098\n",
      "Epoch 39/60\n",
      "410/410 [==============================] - 9s 21ms/step - loss: 0.2908 - accuracy: 0.9081 - val_loss: 1.5136 - val_accuracy: 0.8052\n",
      "Epoch 40/60\n",
      "410/410 [==============================] - 9s 21ms/step - loss: 0.3012 - accuracy: 0.9051 - val_loss: 1.6487 - val_accuracy: 0.8027\n",
      "Epoch 41/60\n",
      "410/410 [==============================] - 9s 21ms/step - loss: 0.2866 - accuracy: 0.9088 - val_loss: 1.6308 - val_accuracy: 0.8130\n",
      "Epoch 42/60\n",
      "410/410 [==============================] - 8s 20ms/step - loss: 0.2879 - accuracy: 0.9071 - val_loss: 1.7576 - val_accuracy: 0.8102\n",
      "Epoch 43/60\n",
      "410/410 [==============================] - 9s 21ms/step - loss: 0.2850 - accuracy: 0.9087 - val_loss: 1.6929 - val_accuracy: 0.8084\n",
      "Epoch 44/60\n",
      "410/410 [==============================] - 8s 20ms/step - loss: 0.2890 - accuracy: 0.9069 - val_loss: 1.5675 - val_accuracy: 0.8127\n",
      "Epoch 45/60\n",
      "410/410 [==============================] - 9s 21ms/step - loss: 0.2731 - accuracy: 0.9120 - val_loss: 1.6142 - val_accuracy: 0.8145\n",
      "Epoch 46/60\n",
      "410/410 [==============================] - 8s 20ms/step - loss: 0.2763 - accuracy: 0.9127 - val_loss: 1.6146 - val_accuracy: 0.8077\n",
      "Epoch 47/60\n",
      "410/410 [==============================] - 8s 20ms/step - loss: 0.2745 - accuracy: 0.9137 - val_loss: 1.6233 - val_accuracy: 0.8048\n",
      "Epoch 48/60\n",
      "410/410 [==============================] - 8s 20ms/step - loss: 0.2727 - accuracy: 0.9133 - val_loss: 1.8220 - val_accuracy: 0.8070\n",
      "Epoch 49/60\n",
      "410/410 [==============================] - 8s 20ms/step - loss: 0.2703 - accuracy: 0.9143 - val_loss: 1.9911 - val_accuracy: 0.8073\n",
      "Epoch 50/60\n",
      "410/410 [==============================] - 8s 20ms/step - loss: 0.2686 - accuracy: 0.9160 - val_loss: 1.6905 - val_accuracy: 0.8155\n",
      "Epoch 51/60\n",
      "410/410 [==============================] - 8s 20ms/step - loss: 0.2606 - accuracy: 0.9165 - val_loss: 1.6782 - val_accuracy: 0.8095\n",
      "Epoch 52/60\n",
      "410/410 [==============================] - 8s 20ms/step - loss: 0.2693 - accuracy: 0.9148 - val_loss: 1.6955 - val_accuracy: 0.8120\n",
      "Epoch 53/60\n",
      "410/410 [==============================] - 8s 21ms/step - loss: 0.2660 - accuracy: 0.9151 - val_loss: 1.6869 - val_accuracy: 0.8102\n",
      "Epoch 54/60\n",
      "410/410 [==============================] - 8s 20ms/step - loss: 0.2626 - accuracy: 0.9176 - val_loss: 1.7642 - val_accuracy: 0.8041\n",
      "Epoch 55/60\n",
      "410/410 [==============================] - 8s 20ms/step - loss: 0.2551 - accuracy: 0.9196 - val_loss: 1.7577 - val_accuracy: 0.8052\n",
      "Epoch 56/60\n",
      "410/410 [==============================] - 8s 20ms/step - loss: 0.2555 - accuracy: 0.9197 - val_loss: 1.8190 - val_accuracy: 0.8084\n",
      "Epoch 57/60\n",
      "410/410 [==============================] - 8s 20ms/step - loss: 0.2553 - accuracy: 0.9185 - val_loss: 1.7894 - val_accuracy: 0.8098\n",
      "Epoch 58/60\n",
      "410/410 [==============================] - 8s 20ms/step - loss: 0.2439 - accuracy: 0.9222 - val_loss: 2.0993 - val_accuracy: 0.8006\n",
      "Epoch 59/60\n",
      "410/410 [==============================] - 8s 20ms/step - loss: 0.2499 - accuracy: 0.9209 - val_loss: 1.9368 - val_accuracy: 0.8095\n",
      "Epoch 60/60\n",
      "410/410 [==============================] - 8s 20ms/step - loss: 0.2496 - accuracy: 0.9204 - val_loss: 1.9695 - val_accuracy: 0.8084\n"
     ]
    },
    {
     "data": {
      "text/plain": [
       "<keras.callbacks.History at 0x1c6accce2d0>"
      ]
     },
     "execution_count": 19,
     "metadata": {},
     "output_type": "execute_result"
    }
   ],
   "source": [
    "model.fit(train , validation_data= validation  , epochs= 60)"
   ]
  },
  {
   "cell_type": "code",
   "execution_count": 20,
   "metadata": {},
   "outputs": [
    {
     "name": "stderr",
     "output_type": "stream",
     "text": [
      "WARNING:absl:Found untraced functions such as _jit_compiled_convolution_op, _jit_compiled_convolution_op, _update_step_xla while saving (showing 3 of 3). These functions will not be directly callable after loading.\n"
     ]
    },
    {
     "name": "stdout",
     "output_type": "stream",
     "text": [
      "INFO:tensorflow:Assets written to: New_Trained_Model\\assets\n"
     ]
    },
    {
     "name": "stderr",
     "output_type": "stream",
     "text": [
      "INFO:tensorflow:Assets written to: New_Trained_Model\\assets\n"
     ]
    }
   ],
   "source": [
    "model.save(\"New_Trained_Model\")"
   ]
  },
  {
   "cell_type": "code",
   "execution_count": 21,
   "metadata": {},
   "outputs": [],
   "source": [
    "model.save('new_Model.keras')"
   ]
  },
  {
   "cell_type": "code",
   "execution_count": null,
   "metadata": {},
   "outputs": [],
   "source": []
  }
 ],
 "metadata": {
  "kernelspec": {
   "display_name": "Python 3",
   "language": "python",
   "name": "python3"
  },
  "language_info": {
   "codemirror_mode": {
    "name": "ipython",
    "version": 3
   },
   "file_extension": ".py",
   "mimetype": "text/x-python",
   "name": "python",
   "nbconvert_exporter": "python",
   "pygments_lexer": "ipython3",
   "version": "3.11.2"
  }
 },
 "nbformat": 4,
 "nbformat_minor": 2
}
